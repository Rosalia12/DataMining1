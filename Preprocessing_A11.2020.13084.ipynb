{
 "cells": [
  {
   "cell_type": "code",
   "execution_count": 64,
   "id": "d54d850c",
   "metadata": {},
   "outputs": [],
   "source": [
    "import numpy as np\n",
    "import matplotlib.pyplot as plt\n",
    "import pandas as pd"
   ]
  },
  {
   "cell_type": "code",
   "execution_count": 73,
   "id": "28d3dccf",
   "metadata": {},
   "outputs": [],
   "source": [
    "# import dataset\n",
    "dataset = pd.read_csv('DataMining.csv')\n",
    "x = dataset.iloc[:, :-1].values\n",
    "y = dataset.iloc[:, -1].values"
   ]
  },
  {
   "cell_type": "code",
   "execution_count": 74,
   "id": "61e7d8d2",
   "metadata": {},
   "outputs": [],
   "source": [
    "# Splitting dataset\n",
    "from sklearn.model_selection import train_test_split\n",
    "x_train, x_test, y_train, y_test = train_test_split(x, y, test_size = 0.2, random_state = 0)"
   ]
  },
  {
   "cell_type": "code",
   "execution_count": 75,
   "id": "5a407969",
   "metadata": {},
   "outputs": [
    {
     "data": {
      "text/html": [
       "<div>\n",
       "<style scoped>\n",
       "    .dataframe tbody tr th:only-of-type {\n",
       "        vertical-align: middle;\n",
       "    }\n",
       "\n",
       "    .dataframe tbody tr th {\n",
       "        vertical-align: top;\n",
       "    }\n",
       "\n",
       "    .dataframe thead th {\n",
       "        text-align: right;\n",
       "    }\n",
       "</style>\n",
       "<table border=\"1\" class=\"dataframe\">\n",
       "  <thead>\n",
       "    <tr style=\"text-align: right;\">\n",
       "      <th></th>\n",
       "      <th>Nama</th>\n",
       "      <th>Umur</th>\n",
       "      <th>RestingBP</th>\n",
       "      <th>Cholestrol</th>\n",
       "      <th>FastingBS</th>\n",
       "      <th>MaxHR</th>\n",
       "      <th>Oldpeak</th>\n",
       "      <th>HeartDisease</th>\n",
       "    </tr>\n",
       "  </thead>\n",
       "  <tbody>\n",
       "    <tr>\n",
       "      <th>0</th>\n",
       "      <td>Dina</td>\n",
       "      <td>23</td>\n",
       "      <td>140.0</td>\n",
       "      <td>289</td>\n",
       "      <td>0</td>\n",
       "      <td>172</td>\n",
       "      <td>0.0</td>\n",
       "      <td>No</td>\n",
       "    </tr>\n",
       "    <tr>\n",
       "      <th>1</th>\n",
       "      <td>Dodi</td>\n",
       "      <td>49</td>\n",
       "      <td>160.0</td>\n",
       "      <td>180</td>\n",
       "      <td>0</td>\n",
       "      <td>156</td>\n",
       "      <td>1.0</td>\n",
       "      <td>Yes</td>\n",
       "    </tr>\n",
       "    <tr>\n",
       "      <th>2</th>\n",
       "      <td>Didi</td>\n",
       "      <td>49</td>\n",
       "      <td>NaN</td>\n",
       "      <td>180</td>\n",
       "      <td>0</td>\n",
       "      <td>156</td>\n",
       "      <td>NaN</td>\n",
       "      <td>Yes</td>\n",
       "    </tr>\n",
       "    <tr>\n",
       "      <th>3</th>\n",
       "      <td>Dodi</td>\n",
       "      <td>49</td>\n",
       "      <td>160.0</td>\n",
       "      <td>180</td>\n",
       "      <td>0</td>\n",
       "      <td>156</td>\n",
       "      <td>1.0</td>\n",
       "      <td>Yes</td>\n",
       "    </tr>\n",
       "    <tr>\n",
       "      <th>4</th>\n",
       "      <td>Dodi</td>\n",
       "      <td>49</td>\n",
       "      <td>160.0</td>\n",
       "      <td>180</td>\n",
       "      <td>0</td>\n",
       "      <td>156</td>\n",
       "      <td>1.0</td>\n",
       "      <td>Yes</td>\n",
       "    </tr>\n",
       "    <tr>\n",
       "      <th>5</th>\n",
       "      <td>Dodi</td>\n",
       "      <td>49</td>\n",
       "      <td>160.0</td>\n",
       "      <td>180</td>\n",
       "      <td>0</td>\n",
       "      <td>156</td>\n",
       "      <td>1.0</td>\n",
       "      <td>Yes</td>\n",
       "    </tr>\n",
       "    <tr>\n",
       "      <th>6</th>\n",
       "      <td>Dodi</td>\n",
       "      <td>49</td>\n",
       "      <td>160.0</td>\n",
       "      <td>180</td>\n",
       "      <td>0</td>\n",
       "      <td>156</td>\n",
       "      <td>1.0</td>\n",
       "      <td>Yes</td>\n",
       "    </tr>\n",
       "    <tr>\n",
       "      <th>7</th>\n",
       "      <td>Dodi</td>\n",
       "      <td>49</td>\n",
       "      <td>160.0</td>\n",
       "      <td>180</td>\n",
       "      <td>0</td>\n",
       "      <td>156</td>\n",
       "      <td>1.0</td>\n",
       "      <td>Yes</td>\n",
       "    </tr>\n",
       "    <tr>\n",
       "      <th>8</th>\n",
       "      <td>Dodi</td>\n",
       "      <td>49</td>\n",
       "      <td>160.0</td>\n",
       "      <td>180</td>\n",
       "      <td>0</td>\n",
       "      <td>156</td>\n",
       "      <td>1.0</td>\n",
       "      <td>Yes</td>\n",
       "    </tr>\n",
       "  </tbody>\n",
       "</table>\n",
       "</div>"
      ],
      "text/plain": [
       "   Nama  Umur  RestingBP  Cholestrol  FastingBS  MaxHR  Oldpeak HeartDisease\n",
       "0  Dina    23      140.0         289          0    172      0.0           No\n",
       "1  Dodi    49      160.0         180          0    156      1.0          Yes\n",
       "2  Didi    49        NaN         180          0    156      NaN          Yes\n",
       "3  Dodi    49      160.0         180          0    156      1.0          Yes\n",
       "4  Dodi    49      160.0         180          0    156      1.0          Yes\n",
       "5  Dodi    49      160.0         180          0    156      1.0          Yes\n",
       "6  Dodi    49      160.0         180          0    156      1.0          Yes\n",
       "7  Dodi    49      160.0         180          0    156      1.0          Yes\n",
       "8  Dodi    49      160.0         180          0    156      1.0          Yes"
      ]
     },
     "execution_count": 75,
     "metadata": {},
     "output_type": "execute_result"
    }
   ],
   "source": [
    "dataset"
   ]
  },
  {
   "cell_type": "code",
   "execution_count": 76,
   "id": "137e5177",
   "metadata": {},
   "outputs": [
    {
     "name": "stdout",
     "output_type": "stream",
     "text": [
      "[['Dina' 23 140.0 289 0 172 0.0]\n",
      " ['Dodi' 49 160.0 180 0 156 1.0]\n",
      " ['Didi' 49 nan 180 0 156 nan]\n",
      " ['Dodi' 49 160.0 180 0 156 1.0]\n",
      " ['Dodi' 49 160.0 180 0 156 1.0]\n",
      " ['Dodi' 49 160.0 180 0 156 1.0]\n",
      " ['Dodi' 49 160.0 180 0 156 1.0]\n",
      " ['Dodi' 49 160.0 180 0 156 1.0]\n",
      " ['Dodi' 49 160.0 180 0 156 1.0]]\n"
     ]
    }
   ],
   "source": [
    "print(x)"
   ]
  },
  {
   "cell_type": "code",
   "execution_count": 77,
   "id": "61e9ccf6",
   "metadata": {},
   "outputs": [
    {
     "name": "stdout",
     "output_type": "stream",
     "text": [
      "['No' 'Yes' 'Yes' 'Yes' 'Yes' 'Yes' 'Yes' 'Yes' 'Yes']\n"
     ]
    }
   ],
   "source": [
    "print(y)"
   ]
  },
  {
   "cell_type": "code",
   "execution_count": 78,
   "id": "4957a87d",
   "metadata": {},
   "outputs": [],
   "source": [
    "# Menghilangkan Missing Value (nan)\n",
    "from sklearn.impute import SimpleImputer\n",
    "imputer = SimpleImputer(missing_values=np.nan, strategy='mean')\n",
    "imputer.fit(x[:, 1:3])\n",
    "x[:, 1:3] = imputer.transform(x[:, 1:3])"
   ]
  },
  {
   "cell_type": "code",
   "execution_count": 79,
   "id": "08dc24a1",
   "metadata": {},
   "outputs": [],
   "source": [
    "# Encoding data kategori (Atribut)\n",
    "from sklearn.compose import ColumnTransformer\n",
    "from sklearn.preprocessing import OneHotEncoder\n",
    "ct = ColumnTransformer(transformers=[('encoder', OneHotEncoder(), [0])], remainder='passthrough')\n",
    "x = np.array(ct.fit_transform(x))\n"
   ]
  },
  {
   "cell_type": "code",
   "execution_count": 80,
   "id": "81b29126",
   "metadata": {},
   "outputs": [
    {
     "name": "stdout",
     "output_type": "stream",
     "text": [
      "[[0.0 1.0 0.0 23.0 140.0 289 0 172 0.0]\n",
      " [0.0 0.0 1.0 49.0 160.0 180 0 156 1.0]\n",
      " [1.0 0.0 0.0 49.0 157.5 180 0 156 nan]\n",
      " [0.0 0.0 1.0 49.0 160.0 180 0 156 1.0]\n",
      " [0.0 0.0 1.0 49.0 160.0 180 0 156 1.0]\n",
      " [0.0 0.0 1.0 49.0 160.0 180 0 156 1.0]\n",
      " [0.0 0.0 1.0 49.0 160.0 180 0 156 1.0]\n",
      " [0.0 0.0 1.0 49.0 160.0 180 0 156 1.0]\n",
      " [0.0 0.0 1.0 49.0 160.0 180 0 156 1.0]]\n"
     ]
    }
   ],
   "source": [
    "print(x)"
   ]
  },
  {
   "cell_type": "code",
   "execution_count": 81,
   "id": "c9036f1e",
   "metadata": {},
   "outputs": [],
   "source": [
    "# Encoding data kategori (class/label)\n",
    "from sklearn.preprocessing import LabelEncoder\n",
    "le = LabelEncoder()\n",
    "y = le.fit_transform(y)"
   ]
  },
  {
   "cell_type": "code",
   "execution_count": 82,
   "id": "3ff2d87e",
   "metadata": {},
   "outputs": [
    {
     "name": "stdout",
     "output_type": "stream",
     "text": [
      "[0 1 1 1 1 1 1 1 1]\n"
     ]
    }
   ],
   "source": [
    "print(y)"
   ]
  },
  {
   "cell_type": "code",
   "execution_count": 83,
   "id": "96ca96d7",
   "metadata": {},
   "outputs": [
    {
     "name": "stdout",
     "output_type": "stream",
     "text": [
      "[[0.0 0.0 1.0 49.0 160.0 180 0 156 1.0]\n",
      " [0.0 0.0 1.0 49.0 160.0 180 0 156 1.0]\n",
      " [0.0 0.0 1.0 49.0 160.0 180 0 156 1.0]\n",
      " [0.0 1.0 0.0 23.0 140.0 289 0 172 0.0]\n",
      " [0.0 0.0 1.0 49.0 160.0 180 0 156 1.0]\n",
      " [0.0 0.0 1.0 49.0 160.0 180 0 156 1.0]\n",
      " [0.0 0.0 1.0 49.0 160.0 180 0 156 1.0]]\n"
     ]
    }
   ],
   "source": [
    "# Membagi dataset ke dalam training set dan test set\n",
    "# Splitting dataset\n",
    "from sklearn.model_selection import train_test_split\n",
    "x_train, x_test, y_train, y_test = train_test_split(x, y, test_size = 0.2, random_state = 1)\n",
    "print(x_train)\n"
   ]
  },
  {
   "cell_type": "code",
   "execution_count": 84,
   "id": "70c76131",
   "metadata": {},
   "outputs": [
    {
     "name": "stdout",
     "output_type": "stream",
     "text": [
      "[[0.0 0.0 1.0 49.0 160.0 180 0 156 1.0]\n",
      " [1.0 0.0 0.0 49.0 157.5 180 0 156 nan]]\n"
     ]
    }
   ],
   "source": [
    "print(x_test)"
   ]
  },
  {
   "cell_type": "code",
   "execution_count": 85,
   "id": "030eeaf2",
   "metadata": {},
   "outputs": [
    {
     "name": "stdout",
     "output_type": "stream",
     "text": [
      "[1 1 1 0 1 1 1]\n"
     ]
    }
   ],
   "source": [
    "print(y_train)\n"
   ]
  },
  {
   "cell_type": "code",
   "execution_count": 86,
   "id": "1def68f7",
   "metadata": {},
   "outputs": [
    {
     "name": "stdout",
     "output_type": "stream",
     "text": [
      "[1 1]\n"
     ]
    }
   ],
   "source": [
    "print(y_test)"
   ]
  },
  {
   "cell_type": "code",
   "execution_count": null,
   "id": "f2a21830",
   "metadata": {},
   "outputs": [],
   "source": []
  }
 ],
 "metadata": {
  "kernelspec": {
   "display_name": "Python 3 (ipykernel)",
   "language": "python",
   "name": "python3"
  },
  "language_info": {
   "codemirror_mode": {
    "name": "ipython",
    "version": 3
   },
   "file_extension": ".py",
   "mimetype": "text/x-python",
   "name": "python",
   "nbconvert_exporter": "python",
   "pygments_lexer": "ipython3",
   "version": "3.9.12"
  }
 },
 "nbformat": 4,
 "nbformat_minor": 5
}
